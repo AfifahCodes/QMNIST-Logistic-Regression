{
  "nbformat": 4,
  "nbformat_minor": 0,
  "metadata": {
    "colab": {
      "name": "QMNIST Assignment4.ipynb",
      "provenance": []
    },
    "kernelspec": {
      "display_name": "Python 3",
      "language": "python",
      "name": "python3"
    },
    "language_info": {
      "codemirror_mode": {
        "name": "ipython",
        "version": 3
      },
      "file_extension": ".py",
      "mimetype": "text/x-python",
      "name": "python",
      "nbconvert_exporter": "python",
      "pygments_lexer": "ipython3",
      "version": "3.7.6"
    }
  },
  "cells": [
    {
      "cell_type": "code",
      "metadata": {
        "id": "8ravvpC_xdfy"
      },
      "source": [
        "# Jovian Commit Essentials\n",
        "# Please retain and execute this cell without modifying the contents for `jovian.commit` to work\n",
        "!pip install jovian --upgrade -q\n",
        "import jovian\n",
        "jovian.utils.colab.set_colab_file_id('1D-Xr7mRbev4pJlwU-id-OZRLS6XD7mKc')"
      ],
      "execution_count": null,
      "outputs": []
    },
    {
      "cell_type": "code",
      "metadata": {
        "id": "RNAgA7fB4PEb"
      },
      "source": [
        "!pip install jovian --upgrade --quiet"
      ],
      "execution_count": null,
      "outputs": []
    },
    {
      "cell_type": "code",
      "metadata": {
        "colab": {
          "base_uri": "https://localhost:8080/"
        },
        "id": "2SH3aU2s4PEc",
        "outputId": "4b7de7a7-e216-4a1f-e5d3-d2c3c277c67e"
      },
      "source": [
        "import torch\r\n",
        "import jovian\r\n",
        "import torchvision\r\n",
        "import torch.nn as nn\r\n",
        "import matplotlib.pyplot as plt\r\n",
        "import torch.nn.functional as F\r\n",
        "import torchvision.transforms as transforms\r\n",
        "from torchvision.datasets import QMNIST\r\n",
        "from torch.utils.data import random_split\r\n",
        "from torch.utils.data import DataLoader\r\n",
        "print('all imported')"
      ],
      "execution_count": null,
      "outputs": [
        {
          "output_type": "stream",
          "text": [
            "all imported\n"
          ],
          "name": "stdout"
        }
      ]
    },
    {
      "cell_type": "code",
      "metadata": {
        "id": "ho6tWjlm4mbH"
      },
      "source": [
        "# Hyperparmeters\r\n",
        "batch_size = 128\r\n",
        "learning_rate = 0.0001\r\n",
        "\r\n",
        "# Other constants\r\n",
        "input_size = 28*28\r\n",
        "num_classes = 10"
      ],
      "execution_count": null,
      "outputs": []
    },
    {
      "cell_type": "code",
      "metadata": {
        "colab": {
          "base_uri": "https://localhost:8080/"
        },
        "id": "xdcbhqvm81ll",
        "outputId": "ea9b930e-a52a-4465-886e-aa8514f2d949"
      },
      "source": [
        "jovian.reset()\r\n",
        "jovian.log_hyperparams(batch_size=batch_size, learning_rate=learning_rate)"
      ],
      "execution_count": null,
      "outputs": [
        {
          "output_type": "stream",
          "text": [
            "[jovian] Please enter your API key ( from https://jovian.ai/ ):\u001b[0m\n",
            "API KEY: ··········\n",
            "[jovian] Hyperparams logged.\u001b[0m\n"
          ],
          "name": "stdout"
        }
      ]
    },
    {
      "cell_type": "markdown",
      "metadata": {
        "id": "R2ecMnRd8-r5"
      },
      "source": [
        "## **Downloading Dataset and Dataloaders**"
      ]
    },
    {
      "cell_type": "code",
      "metadata": {
        "id": "Z8UddzEM9Go1"
      },
      "source": [
        "# Download dataset\r\n",
        "dataset = QMNIST(root='data/', train=True, transform=transforms.ToTensor(), download=True)\r\n",
        "\r\n",
        "# Training validation & test dataset\r\n",
        "train_ds, val_ds = random_split(dataset, [50000, 10000])\r\n",
        "test_ds = QMNIST(root='data/', train=False, transform=transforms.ToTensor(), download = True)\r\n",
        "\r\n",
        "# Dataloaders\r\n",
        "train_loader = DataLoader(train_ds, batch_size, shuffle=True)\r\n",
        "val_loader = DataLoader(val_ds, batch_size*2)\r\n",
        "test_loader = DataLoader(test_ds, batch_size*2)"
      ],
      "execution_count": null,
      "outputs": []
    },
    {
      "cell_type": "code",
      "metadata": {
        "colab": {
          "base_uri": "https://localhost:8080/",
          "height": 282
        },
        "id": "RQKevsTa9Kes",
        "outputId": "3ae09195-9dcc-4ee6-de72-93e2c7eebc31"
      },
      "source": [
        "image, label = train_ds[0]\r\n",
        "plt.imshow(image[0], cmap='gray')\r\n",
        "print('Label:', label)"
      ],
      "execution_count": null,
      "outputs": [
        {
          "output_type": "stream",
          "text": [
            "Label: 5\n"
          ],
          "name": "stdout"
        },
        {
          "output_type": "display_data",
          "data": {
            "image/png": "[encoded data removed]",
            "text/plain": [
              "<Figure size 432x288 with 1 Axes>"
            ]
          },
          "metadata": {
            "tags": [],
            "needs_background": "light"
          }
        }
      ]
    },
    {
      "cell_type": "markdown",
      "metadata": {
        "id": "QxEsFMSsH7xG"
      },
      "source": [
        "# **Model**"
      ]
    },
    {
      "cell_type": "code",
      "metadata": {
        "id": "Olmy9xj5Hz7I"
      },
      "source": [
        "class QMnistModel(nn.Module):\r\n",
        "    def __init__(self):\r\n",
        "        super().__init__()\r\n",
        "        self.linear = nn.Linear(input_size, num_classes)\r\n",
        "        \r\n",
        "    def forward(self, xb):\r\n",
        "        xb = xb.reshape(-1, 784)\r\n",
        "        out = self.linear(xb)\r\n",
        "        return out\r\n",
        "    \r\n",
        "    def training_step(self, batch):\r\n",
        "        images, labels = batch \r\n",
        "        out = self(images)                  # Generate predictions\r\n",
        "        loss = F.cross_entropy(out, labels) # Calculate loss\r\n",
        "        return loss\r\n",
        "    \r\n",
        "    def validation_step(self, batch):\r\n",
        "        images, labels = batch \r\n",
        "        out = self(images)                    # Generate predictions\r\n",
        "        loss = F.cross_entropy(out, labels)   # Calculate loss\r\n",
        "        acc = accuracy(out, labels)           # Calculate accuracy\r\n",
        "        return {'val_loss': loss.detach(), 'val_acc': acc.detach()}\r\n",
        "        \r\n",
        "    def validation_epoch_end(self, outputs):\r\n",
        "        batch_losses = [x['val_loss'] for x in outputs]\r\n",
        "        epoch_loss = torch.stack(batch_losses).mean()   # Combine losses\r\n",
        "        batch_accs = [x['val_acc'] for x in outputs]\r\n",
        "        epoch_acc = torch.stack(batch_accs).mean()      # Combine accuracies\r\n",
        "        return {'val_loss': epoch_loss.item(), 'val_acc': epoch_acc.item()}\r\n",
        "    \r\n",
        "    def epoch_end(self, epoch, result):\r\n",
        "        print(\"Epoch [{}], val_loss: {:.4f}, val_acc: {:.4f}\".format(epoch, result['val_loss'], result['val_acc']))\r\n",
        "    \r\n",
        "model = QMnistModel()"
      ],
      "execution_count": null,
      "outputs": []
    },
    {
      "cell_type": "markdown",
      "metadata": {
        "id": "IVZ671EhIPI-"
      },
      "source": [
        "# **Training our Model**"
      ]
    },
    {
      "cell_type": "code",
      "metadata": {
        "id": "dWFC7sVUILe4"
      },
      "source": [
        "def accuracy(outputs, labels):\r\n",
        "    _, preds = torch.max(outputs, dim=1)\r\n",
        "    return torch.tensor(torch.sum(preds == labels).item() / len(preds))"
      ],
      "execution_count": null,
      "outputs": []
    },
    {
      "cell_type": "code",
      "metadata": {
        "id": "vrGBk0lpIXfT"
      },
      "source": [
        "def evaluate(model, val_loader):\r\n",
        "    outputs = [model.validation_step(batch) for batch in val_loader]\r\n",
        "    return model.validation_epoch_end(outputs)\r\n",
        "\r\n",
        "def fit(epochs, lr, model, train_loader, val_loader, opt_func=torch.optim.SGD):\r\n",
        "    history = []\r\n",
        "    optimizer = opt_func(model.parameters(), lr)\r\n",
        "    for epoch in range(epochs):\r\n",
        "        # Training Phase \r\n",
        "        for batch in train_loader:\r\n",
        "            loss = model.training_step(batch)\r\n",
        "            loss.backward()\r\n",
        "            optimizer.step()\r\n",
        "            optimizer.zero_grad()\r\n",
        "        # Validation phase\r\n",
        "        result = evaluate(model, val_loader)\r\n",
        "        model.epoch_end(epoch, result)\r\n",
        "        history.append(result)\r\n",
        "    return history"
      ],
      "execution_count": null,
      "outputs": []
    },
    {
      "cell_type": "code",
      "metadata": {
        "colab": {
          "base_uri": "https://localhost:8080/"
        },
        "id": "rqj8uICiIdCH",
        "outputId": "880dd402-589b-4255-fa6d-a39b80a867f9"
      },
      "source": [
        "evaluate(model, val_loader)"
      ],
      "execution_count": null,
      "outputs": [
        {
          "output_type": "execute_result",
          "data": {
            "text/plain": [
              "{'val_acc': 0.0849609375, 'val_loss': 2.325199604034424}"
            ]
          },
          "metadata": {
            "tags": []
          },
          "execution_count": 19
        }
      ]
    },
    {
      "cell_type": "code",
      "metadata": {
        "colab": {
          "base_uri": "https://localhost:8080/"
        },
        "id": "oYkdWScdIgAV",
        "outputId": "766417e2-c374-41d7-cbb0-c712ba9de0d3"
      },
      "source": [
        "history = fit(10, 0.001, model, train_loader, val_loader)"
      ],
      "execution_count": null,
      "outputs": [
        {
          "output_type": "stream",
          "text": [
            "Epoch [0], val_loss: 1.9607, val_acc: 0.6156\n",
            "Epoch [1], val_loss: 1.6904, val_acc: 0.7281\n",
            "Epoch [2], val_loss: 1.4876, val_acc: 0.7621\n",
            "Epoch [3], val_loss: 1.3344, val_acc: 0.7819\n",
            "Epoch [4], val_loss: 1.2166, val_acc: 0.7944\n",
            "Epoch [5], val_loss: 1.1240, val_acc: 0.8050\n",
            "Epoch [6], val_loss: 1.0498, val_acc: 0.8114\n",
            "Epoch [7], val_loss: 0.9893, val_acc: 0.8173\n",
            "Epoch [8], val_loss: 0.9388, val_acc: 0.8248\n",
            "Epoch [9], val_loss: 0.8962, val_acc: 0.8303\n"
          ],
          "name": "stdout"
        }
      ]
    },
    {
      "cell_type": "code",
      "metadata": {
        "colab": {
          "base_uri": "https://localhost:8080/"
        },
        "id": "D-PQL7s3Iqc1",
        "outputId": "6af6c565-c532-44ec-d765-6dc934fffaf0"
      },
      "source": [
        "history = fit(10, 0.01, model, train_loader, val_loader)"
      ],
      "execution_count": null,
      "outputs": [
        {
          "output_type": "stream",
          "text": [
            "Epoch [0], val_loss: 0.6727, val_acc: 0.8544\n",
            "Epoch [1], val_loss: 0.5811, val_acc: 0.8627\n",
            "Epoch [2], val_loss: 0.5294, val_acc: 0.8718\n",
            "Epoch [3], val_loss: 0.4955, val_acc: 0.8768\n",
            "Epoch [4], val_loss: 0.4709, val_acc: 0.8810\n",
            "Epoch [5], val_loss: 0.4523, val_acc: 0.8874\n",
            "Epoch [6], val_loss: 0.4376, val_acc: 0.8894\n",
            "Epoch [7], val_loss: 0.4255, val_acc: 0.8904\n",
            "Epoch [8], val_loss: 0.4157, val_acc: 0.8929\n",
            "Epoch [9], val_loss: 0.4070, val_acc: 0.8936\n"
          ],
          "name": "stdout"
        }
      ]
    },
    {
      "cell_type": "code",
      "metadata": {
        "colab": {
          "base_uri": "https://localhost:8080/",
          "height": 295
        },
        "id": "Ug_QqU9CI5rE",
        "outputId": "cb1d7b7b-50a8-4049-dc46-7adba616bc8f"
      },
      "source": [
        "accuracies = [r['val_acc'] for r in history]\r\n",
        "plt.plot(accuracies, '-x')\r\n",
        "plt.xlabel('epoch')\r\n",
        "plt.ylabel('accuracy')\r\n",
        "plt.title('Accuracy vs. No. of epochs');"
      ],
      "execution_count": null,
      "outputs": [
        {
          "output_type": "display_data",
          "data": {
            "image/png": "[encoded data removed]",
            "text/plain": [
              "<Figure size 432x288 with 1 Axes>"
            ]
          },
          "metadata": {
            "tags": [],
            "needs_background": "light"
          }
        }
      ]
    },
    {
      "cell_type": "code",
      "metadata": {
        "colab": {
          "base_uri": "https://localhost:8080/"
        },
        "id": "oTtVhqQnJSka",
        "outputId": "db68270e-457b-4b71-95f6-ee55c792d68e"
      },
      "source": [
        "# Evaluate on test dataset\r\n",
        "result = evaluate(model, test_loader)\r\n",
        "result"
      ],
      "execution_count": null,
      "outputs": [
        {
          "output_type": "execute_result",
          "data": {
            "text/plain": [
              "{'val_acc': 0.8906139731407166, 'val_loss': 0.4056866466999054}"
            ]
          },
          "metadata": {
            "tags": []
          },
          "execution_count": 23
        }
      ]
    },
    {
      "cell_type": "code",
      "metadata": {
        "colab": {
          "base_uri": "https://localhost:8080/"
        },
        "id": "SoNGip7rJkBf",
        "outputId": "dff08541-5528-4158-d9de-84656562e085"
      },
      "source": [
        "jovian.log_metrics(test_acc=result['val_acc'], test_loss=result['val_loss'])"
      ],
      "execution_count": null,
      "outputs": [
        {
          "output_type": "stream",
          "text": [
            "[jovian] Metrics logged.\u001b[0m\n"
          ],
          "name": "stdout"
        }
      ]
    },
    {
      "cell_type": "markdown",
      "metadata": {
        "id": "CZ5mcr_jJywh"
      },
      "source": [
        "# **Prediction**"
      ]
    },
    {
      "cell_type": "code",
      "metadata": {
        "id": "u3AhPcKaJsmr"
      },
      "source": [
        "def predict_image(img, model):\r\n",
        "    xb = img.unsqueeze(0)\r\n",
        "    yb = model(xb)\r\n",
        "    _, preds  = torch.max(yb, dim=1)\r\n",
        "    return preds[0].item()"
      ],
      "execution_count": null,
      "outputs": []
    },
    {
      "cell_type": "code",
      "metadata": {
        "colab": {
          "base_uri": "https://localhost:8080/",
          "height": 282
        },
        "id": "FcxdUVIZJ5He",
        "outputId": "69ad0076-90d3-49dd-a8ac-1831547929f5"
      },
      "source": [
        "img, label = test_ds[919]\r\n",
        "plt.imshow(img[0], cmap='gray')\r\n",
        "print('Label:', label, ', Predicted:', predict_image(img, model))"
      ],
      "execution_count": null,
      "outputs": [
        {
          "output_type": "stream",
          "text": [
            "Label: 2 , Predicted: 2\n"
          ],
          "name": "stdout"
        },
        {
          "output_type": "display_data",
          "data": {
            "image/png": "[encoded data removed]",
            "text/plain": [
              "<Figure size 432x288 with 1 Axes>"
            ]
          },
          "metadata": {
            "tags": [],
            "needs_background": "light"
          }
        }
      ]
    },
    {
      "cell_type": "code",
      "metadata": {
        "colab": {
          "base_uri": "https://localhost:8080/",
          "height": 282
        },
        "id": "kQWYjduFJ78p",
        "outputId": "1db08bb4-e7c1-4ba9-a040-5669f3674c38"
      },
      "source": [
        "img, label = test_ds[900]\r\n",
        "plt.imshow(img[0], cmap='gray')\r\n",
        "print('Label:', label, ', Predicted:', predict_image(img, model))"
      ],
      "execution_count": null,
      "outputs": [
        {
          "output_type": "stream",
          "text": [
            "Label: 1 , Predicted: 3\n"
          ],
          "name": "stdout"
        },
        {
          "output_type": "display_data",
          "data": {
            "image/png": "[encoded data removed]",
            "text/plain": [
              "<Figure size 432x288 with 1 Axes>"
            ]
          },
          "metadata": {
            "tags": [],
            "needs_background": "light"
          }
        }
      ]
    },
    {
      "cell_type": "code",
      "metadata": {
        "colab": {
          "base_uri": "https://localhost:8080/",
          "height": 282
        },
        "id": "OPUNV590J-gC",
        "outputId": "3e36f5dd-0e19-4140-dc7f-bb8b984df2c2"
      },
      "source": [
        "img, label = test_ds[910]\r\n",
        "plt.imshow(img[0], cmap='gray')\r\n",
        "print('Label:', label, ', Predicted:', predict_image(img, model))"
      ],
      "execution_count": null,
      "outputs": [
        {
          "output_type": "stream",
          "text": [
            "Label: 4 , Predicted: 4\n"
          ],
          "name": "stdout"
        },
        {
          "output_type": "display_data",
          "data": {
            "image/png": "[encoded data removed]",
            "text/plain": [
              "<Figure size 432x288 with 1 Axes>"
            ]
          },
          "metadata": {
            "tags": [],
            "needs_background": "light"
          }
        }
      ]
    },
    {
      "cell_type": "code",
      "metadata": {
        "colab": {
          "base_uri": "https://localhost:8080/",
          "height": 282
        },
        "id": "SBC2k_KEKDZz",
        "outputId": "279bd9a8-7bbf-4fcc-b73c-0837e0a4621d"
      },
      "source": [
        "img, label = test_ds[800]\r\n",
        "plt.imshow(img[0], cmap='gray')\r\n",
        "print('Label:', label, ', Predicted:', predict_image(img, model))"
      ],
      "execution_count": null,
      "outputs": [
        {
          "output_type": "stream",
          "text": [
            "Label: 8 , Predicted: 5\n"
          ],
          "name": "stdout"
        },
        {
          "output_type": "display_data",
          "data": {
            "image/png": "[encoded data removed]",
            "text/plain": [
              "<Figure size 432x288 with 1 Axes>"
            ]
          },
          "metadata": {
            "tags": [],
            "needs_background": "light"
          }
        }
      ]
    },
    {
      "cell_type": "code",
      "metadata": {
        "colab": {
          "base_uri": "https://localhost:8080/",
          "height": 282
        },
        "id": "VJWtSiumKJ2W",
        "outputId": "4eea5697-2720-4b68-b433-8f41b93c07cf"
      },
      "source": [
        "img, label = test_ds[890]\r\n",
        "plt.imshow(img[0], cmap='gray')\r\n",
        "print('Label:', label, ', Predicted:', predict_image(img, model))"
      ],
      "execution_count": null,
      "outputs": [
        {
          "output_type": "stream",
          "text": [
            "Label: 3 , Predicted: 3\n"
          ],
          "name": "stdout"
        },
        {
          "output_type": "display_data",
          "data": {
            "image/png": "[encoded data removed]",
            "text/plain": [
              "<Figure size 432x288 with 1 Axes>"
            ]
          },
          "metadata": {
            "tags": [],
            "needs_background": "light"
          }
        }
      ]
    },
    {
      "cell_type": "code",
      "metadata": {
        "id": "3nycUE5BKMU-"
      },
      "source": [
        "torch.save(model.state_dict(), 'mnist-logistic.pth')"
      ],
      "execution_count": null,
      "outputs": []
    },
    {
      "cell_type": "code",
      "metadata": {
        "id": "gpLMgURrKPvP"
      },
      "source": [
        "jovian.commit(project='mnist-logistic-minimal', environment=None, outputs=['mnist-logistic.pth'])"
      ],
      "execution_count": null,
      "outputs": []
    }
  ]
}